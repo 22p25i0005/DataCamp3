{
 "cells": [
  {
   "cell_type": "markdown",
   "metadata": {},
   "source": [
    "# 1."
   ]
  },
  {
   "cell_type": "code",
   "execution_count": 4,
   "metadata": {},
   "outputs": [
    {
     "name": "stdin",
     "output_type": "stream",
     "text": [
      "กรุณาใส่ตัวเลข 1\n",
      "กรุณาใส่ตัวเลข 2\n",
      "กรุณาใส่ตัวเลข 3\n",
      "กรุณาใส่ตัวเลข 4\n",
      "กรุณาใส่ตัวเลข 0\n"
     ]
    },
    {
     "name": "stdout",
     "output_type": "stream",
     "text": [
      "10.0\n"
     ]
    }
   ],
   "source": [
    "x = -1\n",
    "temp = []\n",
    "input_round = 0\n",
    "sum = 0\n",
    "while x != 0:\n",
    "    x = int(input('กรุณาใส่ตัวเลข'))\n",
    "    temp.append(x)\n",
    "    input_round = input_round+1\n",
    "\n",
    "for i in temp:\n",
    "    sum=sum+i\n",
    "mean = sum/len(temp)\n",
    "print(mean*input_round)"
   ]
  },
  {
   "cell_type": "markdown",
   "metadata": {},
   "source": [
    "# 2."
   ]
  },
  {
   "cell_type": "code",
   "execution_count": 15,
   "metadata": {},
   "outputs": [
    {
     "name": "stdin",
     "output_type": "stream",
     "text": [
      "ใส่เลขขอบเขตล่าง 1\n",
      "ใส่เลขขอบเขตบน 100\n"
     ]
    },
    {
     "name": "stdout",
     "output_type": "stream",
     "text": [
      "[2, 3, 5, 7, 11, 13, 17, 19, 23, 29, 31, 37, 41, 43, 47, 53, 59, 61, 67, 71, 73, 79, 83, 89, 97]\n",
      "จำนวน 25 ตัว\n"
     ]
    }
   ],
   "source": [
    "down = int(input('ใส่เลขขอบเขตล่าง'))\n",
    "top = int(input('ใส่เลขขอบเขตบน'))\n",
    "\n",
    "def findPrimeNumber(number):\n",
    "    if number>1:\n",
    "        count = 0\n",
    "        for x in range(2,number):\n",
    "            if number%x == 0:\n",
    "                return False\n",
    "        return True\n",
    "\n",
    "range_number = list(range(down,top))\n",
    "\n",
    "temp = []\n",
    "for i in range_number:\n",
    "    if findPrimeNumber(i):\n",
    "        temp.append(i)\n",
    "print(temp)\n",
    "print('จำนวน {} ตัว'.format(len(temp)))\n",
    "\n",
    "        "
   ]
  },
  {
   "cell_type": "code",
   "execution_count": null,
   "metadata": {},
   "outputs": [],
   "source": []
  }
 ],
 "metadata": {
  "kernelspec": {
   "display_name": "Python 3",
   "language": "python",
   "name": "python3"
  },
  "language_info": {
   "codemirror_mode": {
    "name": "ipython",
    "version": 3
   },
   "file_extension": ".py",
   "mimetype": "text/x-python",
   "name": "python",
   "nbconvert_exporter": "python",
   "pygments_lexer": "ipython3",
   "version": "3.7.6"
  }
 },
 "nbformat": 4,
 "nbformat_minor": 4
}
