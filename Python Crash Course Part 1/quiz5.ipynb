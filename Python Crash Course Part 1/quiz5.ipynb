{
 "cells": [
  {
   "cell_type": "code",
   "execution_count": 8,
   "metadata": {},
   "outputs": [
    {
     "name": "stdout",
     "output_type": "stream",
     "text": [
      "[1, 8, 27, 64, 125, 216, 343, 512, 729, 1000]\n",
      "[1, 8, 27, 64, 125, 216, 343, 512, 729, 1000]\n"
     ]
    }
   ],
   "source": [
    "def findMap(x):\n",
    "    return x*x*x\n",
    "\n",
    "lst = [1,2,3,4,5,6,7,8,9,10]\n",
    "maplst = map(lambda x:x*x*x,lst)\n",
    "print(list(maplst))\n",
    "\n",
    "maplst = map(findMap,lst)\n",
    "print(list(maplst))"
   ]
  },
  {
   "cell_type": "code",
   "execution_count": 19,
   "metadata": {},
   "outputs": [
    {
     "name": "stdout",
     "output_type": "stream",
     "text": [
      "[1, 3, 5, 7, 9]\n",
      "[1, 3, 5, 7, 9]\n"
     ]
    }
   ],
   "source": [
    "def findFilter(y):\n",
    "    if ((y**2)%2 != 0):\n",
    "        return y\n",
    "\n",
    "filterList = filter(lambda y: ((y**2)%2 != 0),lst)\n",
    "print(list(filterList))\n",
    "\n",
    "filterList = filter(findFilter,lst)\n",
    "print(list(filterList))"
   ]
  },
  {
   "cell_type": "code",
   "execution_count": null,
   "metadata": {},
   "outputs": [],
   "source": []
  }
 ],
 "metadata": {
  "kernelspec": {
   "display_name": "Python 3",
   "language": "python",
   "name": "python3"
  },
  "language_info": {
   "codemirror_mode": {
    "name": "ipython",
    "version": 3
   },
   "file_extension": ".py",
   "mimetype": "text/x-python",
   "name": "python",
   "nbconvert_exporter": "python",
   "pygments_lexer": "ipython3",
   "version": "3.7.6"
  }
 },
 "nbformat": 4,
 "nbformat_minor": 4
}
