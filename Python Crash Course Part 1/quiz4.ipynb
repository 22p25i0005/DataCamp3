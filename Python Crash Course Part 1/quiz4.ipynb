{
 "cells": [
  {
   "cell_type": "code",
   "execution_count": 13,
   "metadata": {},
   "outputs": [
    {
     "name": "stdout",
     "output_type": "stream",
     "text": [
      "6\n"
     ]
    }
   ],
   "source": [
    "a = [[[1,3],[3,4]],[5,[5,6],[7,8]]]\n",
    "print(a[1][1][1])"
   ]
  },
  {
   "cell_type": "code",
   "execution_count": 14,
   "metadata": {},
   "outputs": [
    {
     "name": "stdout",
     "output_type": "stream",
     "text": [
      "[['Nisit Sirimarnkit', 39], ['มานี มีสุข', 20], ['มานะ มีโชค', 19], ['มีนา พาโชค', 25]]\n"
     ]
    }
   ],
   "source": [
    "list = [['Nisit Sirimarnkit',39],['มานี มีสุข',20],['มานะ มีโชค',19],['มีนา พาโชค',25]]\n",
    "print(list)"
   ]
  },
  {
   "cell_type": "code",
   "execution_count": 15,
   "metadata": {},
   "outputs": [
    {
     "name": "stdout",
     "output_type": "stream",
     "text": [
      "[['Nisit Sirimarnkit', 39], ['มานี มีสุข', 20], ['มานะ มีโชค', 19]]\n"
     ]
    }
   ],
   "source": [
    "del list[len(list)-1]\n",
    "print(list)"
   ]
  },
  {
   "cell_type": "code",
   "execution_count": 16,
   "metadata": {},
   "outputs": [
    {
     "name": "stdout",
     "output_type": "stream",
     "text": [
      "[['มารวย มีชัย', 35], ['Nisit Sirimarnkit', 39], ['มานี มีสุข', 20], ['มานะ มีโชค', 19]]\n"
     ]
    }
   ],
   "source": [
    "list.insert(0,['มารวย มีชัย',35])\n",
    "print(list)"
   ]
  },
  {
   "cell_type": "code",
   "execution_count": 17,
   "metadata": {},
   "outputs": [
    {
     "name": "stdout",
     "output_type": "stream",
     "text": [
      "[['มารวย มีชัย', 35], ['Nisit Sirimarnkit', 49], ['มานี มีสุข', 20], ['มานะ มีโชค', 19]]\n"
     ]
    }
   ],
   "source": [
    "list[1][1] = 49\n",
    "print(list)"
   ]
  },
  {
   "cell_type": "code",
   "execution_count": null,
   "metadata": {},
   "outputs": [],
   "source": []
  }
 ],
 "metadata": {
  "kernelspec": {
   "display_name": "Python 3",
   "language": "python",
   "name": "python3"
  },
  "language_info": {
   "codemirror_mode": {
    "name": "ipython",
    "version": 3
   },
   "file_extension": ".py",
   "mimetype": "text/x-python",
   "name": "python",
   "nbconvert_exporter": "python",
   "pygments_lexer": "ipython3",
   "version": "3.7.6"
  }
 },
 "nbformat": 4,
 "nbformat_minor": 4
}
