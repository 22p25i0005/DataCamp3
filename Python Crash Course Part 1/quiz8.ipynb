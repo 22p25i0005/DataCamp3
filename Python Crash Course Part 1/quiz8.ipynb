{
 "cells": [
  {
   "cell_type": "code",
   "execution_count": 1,
   "metadata": {},
   "outputs": [
    {
     "name": "stdout",
     "output_type": "stream",
     "text": [
      "[2, 9, 1, 81, 32]\n"
     ]
    }
   ],
   "source": [
    "A = [1,2,3,4,5]\n",
    "B = [2,3,1,3,2]\n",
    "\n",
    "result = map(lambda a,b: b**a,A,B)\n",
    "print(list(result))"
   ]
  },
  {
   "cell_type": "code",
   "execution_count": 2,
   "metadata": {},
   "outputs": [
    {
     "name": "stdout",
     "output_type": "stream",
     "text": [
      "[('มานะ มีชัย', '0001', 60), ('มานี มีสุข', '0002', 80), ('สุขี มีสุข', '0003', 70), ('มีนา พาสุข', '0004', 85)]\n"
     ]
    }
   ],
   "source": [
    "student = ['มานะ มีชัย','มานี มีสุข','สุขี มีสุข','มีนา พาสุข']\n",
    "id = ['0001','0002','0003','0004']\n",
    "score = [60,80,70,85]\n",
    "\n",
    "result = zip(student,id,score)\n",
    "print(list(result))"
   ]
  },
  {
   "cell_type": "code",
   "execution_count": null,
   "metadata": {},
   "outputs": [],
   "source": []
  }
 ],
 "metadata": {
  "kernelspec": {
   "display_name": "Python 3",
   "language": "python",
   "name": "python3"
  },
  "language_info": {
   "codemirror_mode": {
    "name": "ipython",
    "version": 3
   },
   "file_extension": ".py",
   "mimetype": "text/x-python",
   "name": "python",
   "nbconvert_exporter": "python",
   "pygments_lexer": "ipython3",
   "version": "3.7.6"
  }
 },
 "nbformat": 4,
 "nbformat_minor": 4
}
