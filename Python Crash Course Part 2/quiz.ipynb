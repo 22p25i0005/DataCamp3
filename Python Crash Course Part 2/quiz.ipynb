{
 "cells": [
  {
   "cell_type": "markdown",
   "metadata": {},
   "source": [
    "ข้อ 1."
   ]
  },
  {
   "cell_type": "code",
   "execution_count": 4,
   "metadata": {},
   "outputs": [
    {
     "name": "stdin",
     "output_type": "stream",
     "text": [
      "ป้อนตัวเลข 6\n"
     ]
    },
    {
     "name": "stdout",
     "output_type": "stream",
     "text": [
      "เลขคู่\n"
     ]
    }
   ],
   "source": [
    "myinput = int(input('ป้อนตัวเลข'))\n",
    "if myinput == 0:\n",
    "    print('เลขศูนย์')\n",
    "elif myinput%2 == 0:\n",
    "    print('เลขคู่')\n",
    "else:\n",
    "    print('เลขคี่')"
   ]
  },
  {
   "cell_type": "markdown",
   "metadata": {},
   "source": [
    "ข้อ 2."
   ]
  },
  {
   "cell_type": "code",
   "execution_count": 10,
   "metadata": {},
   "outputs": [
    {
     "name": "stdin",
     "output_type": "stream",
     "text": [
      "ป้อนตัวเลขตัวที่หนึ่ง 4.5\n",
      "ป้อนตัวเลขตัวที่สอง 2.5\n"
     ]
    },
    {
     "name": "stdout",
     "output_type": "stream",
     "text": [
      "1.8\n"
     ]
    }
   ],
   "source": [
    "myinput1 = float(input('ป้อนตัวเลขตัวที่หนึ่ง'))\n",
    "myinput2 = float(input('ป้อนตัวเลขตัวที่สอง'))\n",
    "\n",
    "while myinput2 == 0:\n",
    "    myinput2 = float(input('ป้อนตัวเลขตัวที่สองใหม่อีกครั้ง'))\n",
    "print(myinput1/myinput2)"
   ]
  },
  {
   "cell_type": "markdown",
   "metadata": {},
   "source": [
    "ข้อ 3."
   ]
  },
  {
   "cell_type": "code",
   "execution_count": 15,
   "metadata": {},
   "outputs": [
    {
     "name": "stdin",
     "output_type": "stream",
     "text": [
      "ป้อนตัวเลข 5\n",
      "ป้อนตัวเลข 3\n",
      "ป้อนตัวเลข 5\n",
      "ป้อนตัวเลข 10\n",
      "ป้อนตัวเลข 0\n"
     ]
    },
    {
     "name": "stdout",
     "output_type": "stream",
     "text": [
      "5.75\n"
     ]
    }
   ],
   "source": [
    "lst = []\n",
    "result = 0\n",
    "myinput = int(input('ป้อนตัวเลข'))\n",
    "while myinput != 0:\n",
    "    lst.append(myinput)\n",
    "    myinput = int(input('ป้อนตัวเลข'))\n",
    "for x in lst:\n",
    "    result = result+x\n",
    "print(result/len(lst))"
   ]
  },
  {
   "cell_type": "markdown",
   "metadata": {},
   "source": [
    "ข้อ 4."
   ]
  },
  {
   "cell_type": "code",
   "execution_count": 17,
   "metadata": {},
   "outputs": [
    {
     "name": "stdin",
     "output_type": "stream",
     "text": [
      "ป้อนตัวเลข 14\n"
     ]
    },
    {
     "name": "stdout",
     "output_type": "stream",
     "text": [
      "หาร 7 ลงตัว\n"
     ]
    }
   ],
   "source": [
    "myinput = int(input('ป้อนตัวเลข'))\n",
    "if myinput%7 == 0:\n",
    "    print('หาร 7 ลงตัว')\n",
    "else:\n",
    "    print('หาร 7 ไม่ลงตัว')"
   ]
  },
  {
   "cell_type": "markdown",
   "metadata": {},
   "source": [
    "ข้อ 5."
   ]
  },
  {
   "cell_type": "code",
   "execution_count": 32,
   "metadata": {},
   "outputs": [
    {
     "name": "stdin",
     "output_type": "stream",
     "text": [
      "ป้อนตัวเลขค่าที่ 1 3\n",
      "ป้อนตัวเลขค่าที่ 2 4\n",
      "ป้อนตัวเลขค่าที่ 3 5\n"
     ]
    },
    {
     "name": "stdout",
     "output_type": "stream",
     "text": [
      "สร้างสามเหลี่ยมมุมฉากได้\n"
     ]
    }
   ],
   "source": [
    "myinput1 = int(input('ป้อนตัวเลขค่าที่ 1'))\n",
    "myinput2 = int(input('ป้อนตัวเลขค่าที่ 2'))\n",
    "myinput3 = int(input('ป้อนตัวเลขค่าที่ 3'))\n",
    "\n",
    "listInput = [myinput1,myinput2,myinput3]\n",
    "maxInput = 0\n",
    "for x in listInput:\n",
    "    if x>maxInput:\n",
    "        maxInput = x\n",
    "listInput.remove(maxInput)\n",
    "if maxInput**2 == listInput[0]**2+listInput[1]**2:\n",
    "    print('สร้างสามเหลี่ยมมุมฉากได้')\n",
    "else:\n",
    "    print('สร้างสามเหลี่ยมมุมฉากไม่ได้')"
   ]
  },
  {
   "cell_type": "markdown",
   "metadata": {},
   "source": [
    "ข้อ 6."
   ]
  },
  {
   "cell_type": "code",
   "execution_count": 35,
   "metadata": {},
   "outputs": [
    {
     "name": "stdin",
     "output_type": "stream",
     "text": [
      "ป้อนตัวเลขค่าที่ 1 6\n",
      "ป้อนตัวเลขค่าที่ 2 7\n",
      "ป้อนตัวเลขค่าที่ 3 8\n"
     ]
    },
    {
     "name": "stdout",
     "output_type": "stream",
     "text": [
      "สามเหลี่ยมมุมแหลม\n"
     ]
    }
   ],
   "source": [
    "myinput1 = int(input('ป้อนตัวเลขค่าที่ 1'))\n",
    "myinput2 = int(input('ป้อนตัวเลขค่าที่ 2'))\n",
    "myinput3 = int(input('ป้อนตัวเลขค่าที่ 3'))\n",
    "\n",
    "listInput = [myinput1,myinput2,myinput3]\n",
    "maxInput = 0\n",
    "for x in listInput:\n",
    "    if x>maxInput:\n",
    "        maxInput = x\n",
    "listInput.remove(maxInput)\n",
    "if maxInput**2 == listInput[0]**2+listInput[1]**2:\n",
    "    print('สามเหลี่ยมมุมฉาก')\n",
    "elif maxInput**2 > listInput[0]**2+listInput[1]**2:\n",
    "    print('สามเหลี่ยมมุมป้าน')\n",
    "elif maxInput**2 < listInput[0]**2+listInput[1]**2:\n",
    "    print('สามเหลี่ยมมุมแหลม')"
   ]
  },
  {
   "cell_type": "markdown",
   "metadata": {},
   "source": [
    "ข้อ 7."
   ]
  },
  {
   "cell_type": "code",
   "execution_count": 38,
   "metadata": {},
   "outputs": [
    {
     "name": "stdin",
     "output_type": "stream",
     "text": [
      "ค่าอาหาร 2000\n",
      "ค่าอาหาร 3000\n",
      "ค่าอาหาร 4000\n"
     ]
    },
    {
     "name": "stdout",
     "output_type": "stream",
     "text": [
      "ยอดเงินที่ต้องจ่าย  7650.0\n"
     ]
    }
   ],
   "source": [
    "costs = []\n",
    "while len(costs)<3:\n",
    "    cost = int(input('ค่าอาหาร'))\n",
    "    if cost>1000 and cost<5000:\n",
    "        costs.append(cost)\n",
    "total = costs[0]+costs[1]+costs[2]\n",
    "if total>6000:\n",
    "    print('ยอดเงินที่ต้องจ่าย ',total-(total*0.15))\n",
    "elif total>12000:\n",
    "    print('ยอดเงินที่ต้องจ่าย ',total-(total*0.25))\n"
   ]
  },
  {
   "cell_type": "markdown",
   "metadata": {},
   "source": [
    "ข้อ 8."
   ]
  },
  {
   "cell_type": "code",
   "execution_count": 39,
   "metadata": {},
   "outputs": [
    {
     "name": "stdin",
     "output_type": "stream",
     "text": [
      "ค่าอาหาร 200\n",
      "ค่าอาหาร 2000\n",
      "ค่าอาหาร 3000\n",
      "ค่าอาหาร 4000\n",
      "ค่าอาหาร 4000\n"
     ]
    },
    {
     "name": "stdout",
     "output_type": "stream",
     "text": [
      "ยอดเงินที่ต้องจ่ายมื้อที่ 4 คือ  3400.0\n"
     ]
    }
   ],
   "source": [
    "costs = []\n",
    "while len(costs)<4:\n",
    "    cost = int(input('ค่าอาหาร'))\n",
    "    if cost>1000 and cost<5000:\n",
    "        costs.append(cost)\n",
    "total = costs[0]+costs[1]+costs[2]\n",
    "if total>6000:\n",
    "    print('ยอดเงินที่ต้องจ่ายมื้อที่ 4 คือ ',costs[3]-(costs[3]*0.15))\n",
    "elif total>12000:\n",
    "    print('ยอดเงินที่ต้องจ่ายมื้อที่ 4 คือ ',costs[3]-(costs[3]*0.25))"
   ]
  },
  {
   "cell_type": "markdown",
   "metadata": {},
   "source": [
    "ข้อ 9."
   ]
  },
  {
   "cell_type": "code",
   "execution_count": 40,
   "metadata": {},
   "outputs": [
    {
     "name": "stdin",
     "output_type": "stream",
     "text": [
      "ค่าอาหาร 1000\n"
     ]
    },
    {
     "name": "stdout",
     "output_type": "stream",
     "text": [
      "ยอดเงินไม่อยู่ในช่วงที่กำหนด กรุณาลองใหม่อีกครั้ง\n"
     ]
    },
    {
     "name": "stdin",
     "output_type": "stream",
     "text": [
      "ค่าอาหาร 5000\n"
     ]
    },
    {
     "name": "stdout",
     "output_type": "stream",
     "text": [
      "ยอดเงินไม่อยู่ในช่วงที่กำหนด กรุณาลองใหม่อีกครั้ง\n"
     ]
    },
    {
     "name": "stdin",
     "output_type": "stream",
     "text": [
      "ค่าอาหาร 2000\n",
      "ค่าอาหาร 3000\n",
      "ค่าอาหาร 4000\n",
      "ค่าอาหาร 4000\n"
     ]
    },
    {
     "name": "stdout",
     "output_type": "stream",
     "text": [
      "ยอดเงินที่ต้องจ่ายมื้อที่ 4 คือ  3000.0\n"
     ]
    }
   ],
   "source": [
    "costs = []\n",
    "while len(costs)<4:\n",
    "    cost = int(input('ค่าอาหาร'))\n",
    "    if cost>1000 and cost<5000:\n",
    "        costs.append(cost)\n",
    "    else:\n",
    "        print('ยอดเงินไม่อยู่ในช่วงที่กำหนด กรุณาลองใหม่อีกครั้ง')\n",
    "total = costs[0]+costs[1]+costs[2]\n",
    "if total>4000:\n",
    "    print('ยอดเงินที่ต้องจ่ายมื้อที่ 4 คือ ',costs[3]-(costs[3]*0.25))\n",
    "elif total>9000:\n",
    "    print('ยอดเงินที่ต้องจ่ายมื้อที่ 4 คือ ',costs[3]-(costs[3]*0.30))\n"
   ]
  },
  {
   "cell_type": "markdown",
   "metadata": {},
   "source": [
    "ข้อ 10."
   ]
  },
  {
   "cell_type": "code",
   "execution_count": 41,
   "metadata": {},
   "outputs": [
    {
     "name": "stdin",
     "output_type": "stream",
     "text": [
      "ค่าอาหาร 2000\n",
      "ค่าอาหาร 3000\n",
      "ค่าอาหาร 4000\n",
      "ค่าอาหาร 4000\n",
      "มีบัตรเครดิตหรือไม่ มี\n"
     ]
    },
    {
     "name": "stdout",
     "output_type": "stream",
     "text": [
      "ยอดเงินที่ต้องจ่ายมื้อที่ 4 คือ  2800.0\n"
     ]
    }
   ],
   "source": [
    "costs = []\n",
    "while len(costs)<4:\n",
    "    cost = int(input('ค่าอาหาร'))\n",
    "    if cost>1000 and cost<5000:\n",
    "        costs.append(cost)\n",
    "    else:\n",
    "        print('ยอดเงินไม่อยู่ในช่วงที่กำหนด กรุณาลองใหม่อีกครั้ง')\n",
    "credit = input('มีบัตรเครดิตหรือไม่')\n",
    "total = costs[0]+costs[1]+costs[2]\n",
    "if total>4000:\n",
    "    if credit == 'มี':\n",
    "        print('ยอดเงินที่ต้องจ่ายมื้อที่ 4 คือ ',costs[3]-(costs[3]*0.25)-(costs[3]*0.05))\n",
    "    else:\n",
    "        print('ยอดเงินที่ต้องจ่ายมื้อที่ 4 คือ ',costs[3]-(costs[3]*0.25))\n",
    "elif total>9000:\n",
    "    if credit == 'มี':\n",
    "        print('ยอดเงินที่ต้องจ่ายมื้อที่ 4 คือ ',costs[3]-(costs[3]*0.3)-(costs[3]*0.05))\n",
    "    else:\n",
    "        print('ยอดเงินที่ต้องจ่ายมื้อที่ 4 คือ ',costs[3]-(costs[3]*0.3))"
   ]
  },
  {
   "cell_type": "markdown",
   "metadata": {},
   "source": [
    "ข้อ 11."
   ]
  },
  {
   "cell_type": "code",
   "execution_count": 46,
   "metadata": {},
   "outputs": [
    {
     "name": "stdin",
     "output_type": "stream",
     "text": [
      "พิมพ์ประโยค helloWORLD\n"
     ]
    },
    {
     "name": "stdout",
     "output_type": "stream",
     "text": [
      "HELLOworld"
     ]
    }
   ],
   "source": [
    "stringInput = (input('พิมพ์ประโยค'))\n",
    "for x in stringInput:\n",
    "    if x.isupper():\n",
    "        print(x.lower(), end =\"\")\n",
    "    else:\n",
    "        print(x.upper(), end =\"\")\n"
   ]
  },
  {
   "cell_type": "markdown",
   "metadata": {},
   "source": [
    "ข้อ 12."
   ]
  },
  {
   "cell_type": "code",
   "execution_count": 76,
   "metadata": {},
   "outputs": [
    {
     "name": "stdin",
     "output_type": "stream",
     "text": [
      "input 1 fsdfsdf\n",
      "input 2 sdff\n",
      "input 3 sdsdd\n",
      "input 4 sd\n"
     ]
    },
    {
     "name": "stdout",
     "output_type": "stream",
     "text": [
      "sd\n",
      "sdff\n",
      "sdsdd\n",
      "fsdfsdf\n"
     ]
    }
   ],
   "source": [
    "stringInput1 = (input('input 1'))\n",
    "stringInput2 = (input('input 2'))\n",
    "stringInput3 = (input('input 3'))\n",
    "stringInput4 = (input('input 4'))\n",
    "\n",
    "listString = [stringInput1,stringInput2,stringInput3,stringInput4]\n",
    "\n",
    "newList = []\n",
    "maxLength = 0\n",
    "for x in listString:\n",
    "    if len(x)>maxLength:\n",
    "        maxLength = len(x)\n",
    "        newList.append(x)\n",
    "    else:\n",
    "        if len(x)>len(newList[0]):\n",
    "            newList.insert(1,x)\n",
    "        else:\n",
    "            newList.insert(0,x)      \n",
    "for y in newList:\n",
    "    print(y)"
   ]
  },
  {
   "cell_type": "markdown",
   "metadata": {},
   "source": [
    "ข้อ 13."
   ]
  },
  {
   "cell_type": "code",
   "execution_count": 77,
   "metadata": {},
   "outputs": [
    {
     "name": "stdin",
     "output_type": "stream",
     "text": [
      "ชั่วโมง 3\n",
      "นาที 15\n"
     ]
    },
    {
     "name": "stdout",
     "output_type": "stream",
     "text": [
      "ค่าจอดรถ  480\n"
     ]
    }
   ],
   "source": [
    "input1 = int(input('ชั่วโมง'))\n",
    "input2 = int(input('นาที'))\n",
    "\n",
    "print('ค่าจอดรถ ',(input1*150)+(input2*2))"
   ]
  },
  {
   "cell_type": "markdown",
   "metadata": {},
   "source": [
    "ข้อ 14."
   ]
  },
  {
   "cell_type": "code",
   "execution_count": 80,
   "metadata": {},
   "outputs": [
    {
     "name": "stdin",
     "output_type": "stream",
     "text": [
      "ชั่วโมง 2\n",
      "นาที 50\n"
     ]
    },
    {
     "name": "stdout",
     "output_type": "stream",
     "text": [
      "ค่าจอดรถ  900\n",
      "ค่าจอดรถ  900\n"
     ]
    }
   ],
   "source": [
    "input1 = int(input('ชั่วโมง'))\n",
    "input2 = int(input('นาที'))\n",
    "\n",
    "if input1 == 1:\n",
    "    print('ค่าจอดรถฟรี')\n",
    "else:\n",
    "    if input2>15:\n",
    "        input1 = input1+1\n",
    "        print('ค่าจอดรถ ',(input1*300))\n",
    "    print('ค่าจอดรถ ',(input1*300))"
   ]
  },
  {
   "cell_type": "markdown",
   "metadata": {},
   "source": [
    "ข้อ 15."
   ]
  },
  {
   "cell_type": "code",
   "execution_count": 87,
   "metadata": {},
   "outputs": [
    {
     "name": "stdin",
     "output_type": "stream",
     "text": [
      "ผลรวมจำนวนหัวของสัตว์ 6\n",
      "ผลรวมจำนวนขาของสัตว์ 16\n"
     ]
    },
    {
     "name": "stdout",
     "output_type": "stream",
     "text": [
      "ต้องจ่ายภาษี  1040.0\n"
     ]
    }
   ],
   "source": [
    "heads = int(input('ผลรวมจำนวนหัวของสัตว์'))\n",
    "legs = int(input('ผลรวมจำนวนขาของสัตว์'))\n",
    "\n",
    "fourleg = (legs/2)-heads\n",
    "twoleg = heads-fourleg\n",
    "print('ต้องจ่ายภาษี ',(fourleg*220)+(twoleg*150))"
   ]
  },
  {
   "cell_type": "code",
   "execution_count": null,
   "metadata": {},
   "outputs": [],
   "source": []
  }
 ],
 "metadata": {
  "kernelspec": {
   "display_name": "Python 3",
   "language": "python",
   "name": "python3"
  },
  "language_info": {
   "codemirror_mode": {
    "name": "ipython",
    "version": 3
   },
   "file_extension": ".py",
   "mimetype": "text/x-python",
   "name": "python",
   "nbconvert_exporter": "python",
   "pygments_lexer": "ipython3",
   "version": "3.7.6"
  }
 },
 "nbformat": 4,
 "nbformat_minor": 4
}
